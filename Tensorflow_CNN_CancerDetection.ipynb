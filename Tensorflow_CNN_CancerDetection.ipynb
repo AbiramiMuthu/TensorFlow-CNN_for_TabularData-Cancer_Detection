{
  "nbformat": 4,
  "nbformat_minor": 0,
  "metadata": {
    "colab": {
      "name": "Tensorflow-CNN-CancerDetection.ipynb",
      "provenance": [],
      "collapsed_sections": [],
      "authorship_tag": "ABX9TyOzYcWvO1HGs5zVvlwli03t",
      "include_colab_link": true
    },
    "kernelspec": {
      "name": "python3",
      "display_name": "Python 3"
    },
    "language_info": {
      "name": "python"
    },
    "accelerator": "TPU"
  },
  "cells": [
    {
      "cell_type": "markdown",
      "metadata": {
        "id": "view-in-github",
        "colab_type": "text"
      },
      "source": [
        "<a href=\"https://colab.research.google.com/github/AbiramiMuthu/AbiramiMuthu/blob/main/Tensorflow_CNN_CancerDetection.ipynb\" target=\"_parent\"><img src=\"https://colab.research.google.com/assets/colab-badge.svg\" alt=\"Open In Colab\"/></a>"
      ]
    },
    {
      "cell_type": "markdown",
      "metadata": {
        "id": "YcJzCgwOmeD_"
      },
      "source": [
        "## Import Libraries"
      ]
    },
    {
      "cell_type": "code",
      "metadata": {
        "id": "VhlgD3MlkVXo"
      },
      "source": [
        "import tensorflow as tf\n",
        "from tensorflow import keras\n",
        "from tensorflow.keras import Sequential\n",
        "from tensorflow.keras.layers import Flatten,Dense,Conv1D,MaxPool1D,BatchNormalization,Dropout\n",
        "from tensorflow.keras.optimizers import Adam"
      ],
      "execution_count": null,
      "outputs": []
    },
    {
      "cell_type": "code",
      "metadata": {
        "colab": {
          "base_uri": "https://localhost:8080/",
          "height": 35
        },
        "id": "K6FA76Cwkl3-",
        "outputId": "e763874f-da56-43ab-fa9f-af8b35850f96"
      },
      "source": [
        "tf.__version__"
      ],
      "execution_count": null,
      "outputs": [
        {
          "output_type": "execute_result",
          "data": {
            "application/vnd.google.colaboratory.intrinsic+json": {
              "type": "string"
            },
            "text/plain": [
              "'2.5.0'"
            ]
          },
          "metadata": {
            "tags": []
          },
          "execution_count": 2
        }
      ]
    },
    {
      "cell_type": "code",
      "metadata": {
        "id": "utn9omU7lQ8v"
      },
      "source": [
        "import numpy as np\n",
        "import pandas as pd\n",
        "import matplotlib.pyplot as plt\n"
      ],
      "execution_count": null,
      "outputs": []
    },
    {
      "cell_type": "code",
      "metadata": {
        "id": "dpcj9NsFlYPk"
      },
      "source": [
        "from sklearn import datasets,metrics\n",
        "from sklearn.preprocessing import StandardScaler\n",
        "from sklearn.model_selection import train_test_split"
      ],
      "execution_count": null,
      "outputs": []
    },
    {
      "cell_type": "markdown",
      "metadata": {
        "id": "dJSyI3gPmkNa"
      },
      "source": [
        "## Load the Dataset from sklearn"
      ]
    },
    {
      "cell_type": "code",
      "metadata": {
        "id": "9gcMmRBJlpb9"
      },
      "source": [
        "cancer_dataset = datasets.load_breast_cancer()\n"
      ],
      "execution_count": null,
      "outputs": []
    },
    {
      "cell_type": "code",
      "metadata": {
        "colab": {
          "base_uri": "https://localhost:8080/"
        },
        "id": "SSVQwOBJnWnj",
        "outputId": "28efd340-54f4-4e06-f454-a2a94a63c5d5"
      },
      "source": [
        "print(cancer_dataset.DESCR)"
      ],
      "execution_count": null,
      "outputs": [
        {
          "output_type": "stream",
          "text": [
            ".. _breast_cancer_dataset:\n",
            "\n",
            "Breast cancer wisconsin (diagnostic) dataset\n",
            "--------------------------------------------\n",
            "\n",
            "**Data Set Characteristics:**\n",
            "\n",
            "    :Number of Instances: 569\n",
            "\n",
            "    :Number of Attributes: 30 numeric, predictive attributes and the class\n",
            "\n",
            "    :Attribute Information:\n",
            "        - radius (mean of distances from center to points on the perimeter)\n",
            "        - texture (standard deviation of gray-scale values)\n",
            "        - perimeter\n",
            "        - area\n",
            "        - smoothness (local variation in radius lengths)\n",
            "        - compactness (perimeter^2 / area - 1.0)\n",
            "        - concavity (severity of concave portions of the contour)\n",
            "        - concave points (number of concave portions of the contour)\n",
            "        - symmetry \n",
            "        - fractal dimension (\"coastline approximation\" - 1)\n",
            "\n",
            "        The mean, standard error, and \"worst\" or largest (mean of the three\n",
            "        largest values) of these features were computed for each image,\n",
            "        resulting in 30 features.  For instance, field 3 is Mean Radius, field\n",
            "        13 is Radius SE, field 23 is Worst Radius.\n",
            "\n",
            "        - class:\n",
            "                - WDBC-Malignant\n",
            "                - WDBC-Benign\n",
            "\n",
            "    :Summary Statistics:\n",
            "\n",
            "    ===================================== ====== ======\n",
            "                                           Min    Max\n",
            "    ===================================== ====== ======\n",
            "    radius (mean):                        6.981  28.11\n",
            "    texture (mean):                       9.71   39.28\n",
            "    perimeter (mean):                     43.79  188.5\n",
            "    area (mean):                          143.5  2501.0\n",
            "    smoothness (mean):                    0.053  0.163\n",
            "    compactness (mean):                   0.019  0.345\n",
            "    concavity (mean):                     0.0    0.427\n",
            "    concave points (mean):                0.0    0.201\n",
            "    symmetry (mean):                      0.106  0.304\n",
            "    fractal dimension (mean):             0.05   0.097\n",
            "    radius (standard error):              0.112  2.873\n",
            "    texture (standard error):             0.36   4.885\n",
            "    perimeter (standard error):           0.757  21.98\n",
            "    area (standard error):                6.802  542.2\n",
            "    smoothness (standard error):          0.002  0.031\n",
            "    compactness (standard error):         0.002  0.135\n",
            "    concavity (standard error):           0.0    0.396\n",
            "    concave points (standard error):      0.0    0.053\n",
            "    symmetry (standard error):            0.008  0.079\n",
            "    fractal dimension (standard error):   0.001  0.03\n",
            "    radius (worst):                       7.93   36.04\n",
            "    texture (worst):                      12.02  49.54\n",
            "    perimeter (worst):                    50.41  251.2\n",
            "    area (worst):                         185.2  4254.0\n",
            "    smoothness (worst):                   0.071  0.223\n",
            "    compactness (worst):                  0.027  1.058\n",
            "    concavity (worst):                    0.0    1.252\n",
            "    concave points (worst):               0.0    0.291\n",
            "    symmetry (worst):                     0.156  0.664\n",
            "    fractal dimension (worst):            0.055  0.208\n",
            "    ===================================== ====== ======\n",
            "\n",
            "    :Missing Attribute Values: None\n",
            "\n",
            "    :Class Distribution: 212 - Malignant, 357 - Benign\n",
            "\n",
            "    :Creator:  Dr. William H. Wolberg, W. Nick Street, Olvi L. Mangasarian\n",
            "\n",
            "    :Donor: Nick Street\n",
            "\n",
            "    :Date: November, 1995\n",
            "\n",
            "This is a copy of UCI ML Breast Cancer Wisconsin (Diagnostic) datasets.\n",
            "https://goo.gl/U2Uwz2\n",
            "\n",
            "Features are computed from a digitized image of a fine needle\n",
            "aspirate (FNA) of a breast mass.  They describe\n",
            "characteristics of the cell nuclei present in the image.\n",
            "\n",
            "Separating plane described above was obtained using\n",
            "Multisurface Method-Tree (MSM-T) [K. P. Bennett, \"Decision Tree\n",
            "Construction Via Linear Programming.\" Proceedings of the 4th\n",
            "Midwest Artificial Intelligence and Cognitive Science Society,\n",
            "pp. 97-101, 1992], a classification method which uses linear\n",
            "programming to construct a decision tree.  Relevant features\n",
            "were selected using an exhaustive search in the space of 1-4\n",
            "features and 1-3 separating planes.\n",
            "\n",
            "The actual linear program used to obtain the separating plane\n",
            "in the 3-dimensional space is that described in:\n",
            "[K. P. Bennett and O. L. Mangasarian: \"Robust Linear\n",
            "Programming Discrimination of Two Linearly Inseparable Sets\",\n",
            "Optimization Methods and Software 1, 1992, 23-34].\n",
            "\n",
            "This database is also available through the UW CS ftp server:\n",
            "\n",
            "ftp ftp.cs.wisc.edu\n",
            "cd math-prog/cpo-dataset/machine-learn/WDBC/\n",
            "\n",
            ".. topic:: References\n",
            "\n",
            "   - W.N. Street, W.H. Wolberg and O.L. Mangasarian. Nuclear feature extraction \n",
            "     for breast tumor diagnosis. IS&T/SPIE 1993 International Symposium on \n",
            "     Electronic Imaging: Science and Technology, volume 1905, pages 861-870,\n",
            "     San Jose, CA, 1993.\n",
            "   - O.L. Mangasarian, W.N. Street and W.H. Wolberg. Breast cancer diagnosis and \n",
            "     prognosis via linear programming. Operations Research, 43(4), pages 570-577, \n",
            "     July-August 1995.\n",
            "   - W.H. Wolberg, W.N. Street, and O.L. Mangasarian. Machine learning techniques\n",
            "     to diagnose breast cancer from fine-needle aspirates. Cancer Letters 77 (1994) \n",
            "     163-171.\n"
          ],
          "name": "stdout"
        }
      ]
    },
    {
      "cell_type": "markdown",
      "metadata": {
        "id": "wciczs-3mqJp"
      },
      "source": [
        "## Convert the dataset to DataFrame"
      ]
    },
    {
      "cell_type": "code",
      "metadata": {
        "id": "RlQcS_q0l7_d"
      },
      "source": [
        "X=pd.DataFrame(data=cancer_dataset.data,columns=cancer_dataset.feature_names)"
      ],
      "execution_count": null,
      "outputs": []
    },
    {
      "cell_type": "code",
      "metadata": {
        "id": "K1LGab52mHxW"
      },
      "source": [
        "Y=cancer_dataset.target"
      ],
      "execution_count": null,
      "outputs": []
    },
    {
      "cell_type": "code",
      "metadata": {
        "colab": {
          "base_uri": "https://localhost:8080/"
        },
        "id": "-ATE5Gk-nf2s",
        "outputId": "7c809854-c7b5-446f-abac-16a190e1fbba"
      },
      "source": [
        "X.shape"
      ],
      "execution_count": null,
      "outputs": [
        {
          "output_type": "execute_result",
          "data": {
            "text/plain": [
              "(569, 30)"
            ]
          },
          "metadata": {
            "tags": []
          },
          "execution_count": 9
        }
      ]
    },
    {
      "cell_type": "code",
      "metadata": {
        "colab": {
          "base_uri": "https://localhost:8080/"
        },
        "id": "Llhr2pManhAi",
        "outputId": "045a2dac-07c4-4393-b84d-4f67b8126d3f"
      },
      "source": [
        "Y.shape"
      ],
      "execution_count": null,
      "outputs": [
        {
          "output_type": "execute_result",
          "data": {
            "text/plain": [
              "(569,)"
            ]
          },
          "metadata": {
            "tags": []
          },
          "execution_count": 10
        }
      ]
    },
    {
      "cell_type": "markdown",
      "metadata": {
        "id": "VWdmY8l_oEKJ"
      },
      "source": [
        "## Train Test Split"
      ]
    },
    {
      "cell_type": "code",
      "metadata": {
        "id": "UHWqz177niXL"
      },
      "source": [
        "X_train,X_test,Y_train,Y_test=train_test_split(X,Y,test_size=0.2,random_state=0,stratify=Y)"
      ],
      "execution_count": null,
      "outputs": []
    },
    {
      "cell_type": "code",
      "metadata": {
        "colab": {
          "base_uri": "https://localhost:8080/"
        },
        "id": "aZS1jqrEn7YZ",
        "outputId": "db3491f3-efb9-4b30-fd1c-dce029bbe60e"
      },
      "source": [
        "X_train.shape"
      ],
      "execution_count": null,
      "outputs": [
        {
          "output_type": "execute_result",
          "data": {
            "text/plain": [
              "(455, 30)"
            ]
          },
          "metadata": {
            "tags": []
          },
          "execution_count": 12
        }
      ]
    },
    {
      "cell_type": "code",
      "metadata": {
        "colab": {
          "base_uri": "https://localhost:8080/"
        },
        "id": "n0TXfpN6n9kY",
        "outputId": "4f31fd8e-b2b9-4dc8-d2f0-38717902ec8b"
      },
      "source": [
        "Y_train.shape"
      ],
      "execution_count": null,
      "outputs": [
        {
          "output_type": "execute_result",
          "data": {
            "text/plain": [
              "(455,)"
            ]
          },
          "metadata": {
            "tags": []
          },
          "execution_count": 13
        }
      ]
    },
    {
      "cell_type": "code",
      "metadata": {
        "colab": {
          "base_uri": "https://localhost:8080/"
        },
        "id": "p4Kk5PFbqYXx",
        "outputId": "b4a4154b-4140-4cb2-f1b5-7785c833416e"
      },
      "source": [
        "X_test.shape"
      ],
      "execution_count": null,
      "outputs": [
        {
          "output_type": "execute_result",
          "data": {
            "text/plain": [
              "(114, 30)"
            ]
          },
          "metadata": {
            "tags": []
          },
          "execution_count": 14
        }
      ]
    },
    {
      "cell_type": "markdown",
      "metadata": {
        "id": "4YqdWQMfoILL"
      },
      "source": [
        "## Data Standardisation"
      ]
    },
    {
      "cell_type": "code",
      "metadata": {
        "id": "pR-i7BFZn_2S"
      },
      "source": [
        "scalar=StandardScaler()\n",
        "X_train=scalar.fit_transform(X_train)\n",
        "X_test=scalar.transform(X_test)"
      ],
      "execution_count": null,
      "outputs": []
    },
    {
      "cell_type": "markdown",
      "metadata": {
        "id": "C8RghEyIqj3I"
      },
      "source": [
        "## Reshaping 2D to 3D"
      ]
    },
    {
      "cell_type": "code",
      "metadata": {
        "id": "x47nkEoUoXHb"
      },
      "source": [
        "X_train=X_train.reshape(455,30,1)\n",
        "X_test=X_test.reshape(114,30,1)"
      ],
      "execution_count": null,
      "outputs": []
    },
    {
      "cell_type": "code",
      "metadata": {
        "colab": {
          "base_uri": "https://localhost:8080/"
        },
        "id": "3c3_O8MJol5T",
        "outputId": "0ca27dab-c942-474b-d09c-2a1dc90efb99"
      },
      "source": [
        "X_train.shape"
      ],
      "execution_count": null,
      "outputs": [
        {
          "output_type": "execute_result",
          "data": {
            "text/plain": [
              "(455, 30, 1)"
            ]
          },
          "metadata": {
            "tags": []
          },
          "execution_count": 17
        }
      ]
    },
    {
      "cell_type": "markdown",
      "metadata": {
        "id": "djVimtBarExV"
      },
      "source": [
        "## Buid Model"
      ]
    },
    {
      "cell_type": "code",
      "metadata": {
        "id": "ma5qptUoqeke"
      },
      "source": [
        "model=Sequential()\n",
        "model.add(Conv1D(filters=32,kernel_size=2,activation='relu',input_shape=(30,1)))\n",
        "model.add(BatchNormalization())\n",
        "model.add(Dropout(0.2))\n",
        "\n",
        "\n",
        "model.add(Conv1D(filters=364,kernel_size=2,activation='relu'))\n",
        "model.add(BatchNormalization())\n",
        "model.add(Dropout(0.5))\n",
        "\n",
        "\n",
        "model.add(Flatten())\n",
        "model.add(Dense(64,activation='relu'))\n",
        "model.add(Dropout(0.5))\n",
        "\n",
        "model.add(Dense(1,activation='sigmoid'))\n"
      ],
      "execution_count": null,
      "outputs": []
    },
    {
      "cell_type": "code",
      "metadata": {
        "id": "D2lo8NOIsbc3"
      },
      "source": [
        "model.compile(optimizer='Adam',loss='binary_crossentropy',metrics=['accuracy'])"
      ],
      "execution_count": null,
      "outputs": []
    },
    {
      "cell_type": "markdown",
      "metadata": {
        "id": "ibjD6SzcurkP"
      },
      "source": [
        "## Train the Model"
      ]
    },
    {
      "cell_type": "code",
      "metadata": {
        "id": "ufm5ZMV7swz9",
        "colab": {
          "base_uri": "https://localhost:8080/"
        },
        "outputId": "e3c2a259-228e-404d-fa52-0203dfdfa535"
      },
      "source": [
        "history=model.fit(X_train,Y_train,epochs=50,validation_data=(X_test,Y_test))"
      ],
      "execution_count": null,
      "outputs": [
        {
          "output_type": "stream",
          "text": [
            "Epoch 1/50\n",
            "15/15 [==============================] - 2s 43ms/step - loss: 0.3961 - accuracy: 0.9033 - val_loss: 0.3060 - val_accuracy: 0.9649\n",
            "Epoch 2/50\n",
            "15/15 [==============================] - 0s 23ms/step - loss: 0.0870 - accuracy: 0.9736 - val_loss: 0.2772 - val_accuracy: 0.9211\n",
            "Epoch 3/50\n",
            "15/15 [==============================] - 0s 26ms/step - loss: 0.1573 - accuracy: 0.9604 - val_loss: 0.2892 - val_accuracy: 0.8947\n",
            "Epoch 4/50\n",
            "15/15 [==============================] - 0s 25ms/step - loss: 0.1698 - accuracy: 0.9451 - val_loss: 0.2671 - val_accuracy: 0.8860\n",
            "Epoch 5/50\n",
            "15/15 [==============================] - 0s 25ms/step - loss: 0.1554 - accuracy: 0.9714 - val_loss: 0.2744 - val_accuracy: 0.8684\n",
            "Epoch 6/50\n",
            "15/15 [==============================] - 0s 24ms/step - loss: 0.2385 - accuracy: 0.9626 - val_loss: 0.2647 - val_accuracy: 0.8860\n",
            "Epoch 7/50\n",
            "15/15 [==============================] - 0s 26ms/step - loss: 0.0543 - accuracy: 0.9846 - val_loss: 0.2644 - val_accuracy: 0.8947\n",
            "Epoch 8/50\n",
            "15/15 [==============================] - 0s 23ms/step - loss: 0.0812 - accuracy: 0.9758 - val_loss: 0.2526 - val_accuracy: 0.8860\n",
            "Epoch 9/50\n",
            "15/15 [==============================] - 0s 25ms/step - loss: 0.0829 - accuracy: 0.9714 - val_loss: 0.2515 - val_accuracy: 0.8947\n",
            "Epoch 10/50\n",
            "15/15 [==============================] - 0s 24ms/step - loss: 0.0738 - accuracy: 0.9780 - val_loss: 0.2301 - val_accuracy: 0.9035\n",
            "Epoch 11/50\n",
            "15/15 [==============================] - 0s 25ms/step - loss: 0.0984 - accuracy: 0.9736 - val_loss: 0.2201 - val_accuracy: 0.8860\n",
            "Epoch 12/50\n",
            "15/15 [==============================] - 0s 26ms/step - loss: 0.0559 - accuracy: 0.9890 - val_loss: 0.1914 - val_accuracy: 0.9561\n",
            "Epoch 13/50\n",
            "15/15 [==============================] - 0s 24ms/step - loss: 0.0769 - accuracy: 0.9868 - val_loss: 0.1731 - val_accuracy: 0.9386\n",
            "Epoch 14/50\n",
            "15/15 [==============================] - 0s 24ms/step - loss: 0.1396 - accuracy: 0.9846 - val_loss: 0.1700 - val_accuracy: 0.9211\n",
            "Epoch 15/50\n",
            "15/15 [==============================] - 0s 26ms/step - loss: 0.0535 - accuracy: 0.9846 - val_loss: 0.2072 - val_accuracy: 0.9123\n",
            "Epoch 16/50\n",
            "15/15 [==============================] - 0s 24ms/step - loss: 0.0734 - accuracy: 0.9758 - val_loss: 0.1415 - val_accuracy: 0.9474\n",
            "Epoch 17/50\n",
            "15/15 [==============================] - 0s 25ms/step - loss: 0.0584 - accuracy: 0.9758 - val_loss: 0.1806 - val_accuracy: 0.9386\n",
            "Epoch 18/50\n",
            "15/15 [==============================] - 0s 26ms/step - loss: 0.0800 - accuracy: 0.9824 - val_loss: 0.1285 - val_accuracy: 0.9474\n",
            "Epoch 19/50\n",
            "15/15 [==============================] - 0s 26ms/step - loss: 0.0476 - accuracy: 0.9868 - val_loss: 0.1351 - val_accuracy: 0.9649\n",
            "Epoch 20/50\n",
            "15/15 [==============================] - 0s 25ms/step - loss: 0.1166 - accuracy: 0.9692 - val_loss: 0.1247 - val_accuracy: 0.9561\n",
            "Epoch 21/50\n",
            "15/15 [==============================] - 0s 24ms/step - loss: 0.0777 - accuracy: 0.9802 - val_loss: 0.1029 - val_accuracy: 0.9825\n",
            "Epoch 22/50\n",
            "15/15 [==============================] - 0s 25ms/step - loss: 0.0874 - accuracy: 0.9802 - val_loss: 0.1282 - val_accuracy: 0.9561\n",
            "Epoch 23/50\n",
            "15/15 [==============================] - 0s 28ms/step - loss: 0.0665 - accuracy: 0.9692 - val_loss: 0.1459 - val_accuracy: 0.9561\n",
            "Epoch 24/50\n",
            "15/15 [==============================] - 0s 27ms/step - loss: 0.0327 - accuracy: 0.9846 - val_loss: 0.1185 - val_accuracy: 0.9561\n",
            "Epoch 25/50\n",
            "15/15 [==============================] - 0s 25ms/step - loss: 0.0211 - accuracy: 0.9934 - val_loss: 0.1157 - val_accuracy: 0.9737\n",
            "Epoch 26/50\n",
            "15/15 [==============================] - 0s 24ms/step - loss: 0.0133 - accuracy: 0.9978 - val_loss: 0.1285 - val_accuracy: 0.9737\n",
            "Epoch 27/50\n",
            "15/15 [==============================] - 0s 24ms/step - loss: 0.0319 - accuracy: 0.9868 - val_loss: 0.1044 - val_accuracy: 0.9737\n",
            "Epoch 28/50\n",
            "15/15 [==============================] - 0s 26ms/step - loss: 0.0309 - accuracy: 0.9912 - val_loss: 0.1110 - val_accuracy: 0.9737\n",
            "Epoch 29/50\n",
            "15/15 [==============================] - 0s 26ms/step - loss: 0.0996 - accuracy: 0.9780 - val_loss: 0.1062 - val_accuracy: 0.9649\n",
            "Epoch 30/50\n",
            "15/15 [==============================] - 0s 25ms/step - loss: 0.1047 - accuracy: 0.9780 - val_loss: 0.1212 - val_accuracy: 0.9649\n",
            "Epoch 31/50\n",
            "15/15 [==============================] - 0s 26ms/step - loss: 0.1364 - accuracy: 0.9824 - val_loss: 0.2344 - val_accuracy: 0.9561\n",
            "Epoch 32/50\n",
            "15/15 [==============================] - 0s 26ms/step - loss: 0.1359 - accuracy: 0.9692 - val_loss: 0.3418 - val_accuracy: 0.9474\n",
            "Epoch 33/50\n",
            "15/15 [==============================] - 0s 26ms/step - loss: 0.1457 - accuracy: 0.9626 - val_loss: 0.3508 - val_accuracy: 0.9386\n",
            "Epoch 34/50\n",
            "15/15 [==============================] - 0s 24ms/step - loss: 0.0305 - accuracy: 0.9890 - val_loss: 0.1462 - val_accuracy: 0.9649\n",
            "Epoch 35/50\n",
            "15/15 [==============================] - 0s 25ms/step - loss: 0.0328 - accuracy: 0.9890 - val_loss: 0.1397 - val_accuracy: 0.9737\n",
            "Epoch 36/50\n",
            "15/15 [==============================] - 0s 26ms/step - loss: 0.0390 - accuracy: 0.9868 - val_loss: 0.1162 - val_accuracy: 0.9649\n",
            "Epoch 37/50\n",
            "15/15 [==============================] - 0s 25ms/step - loss: 0.0326 - accuracy: 0.9868 - val_loss: 0.1608 - val_accuracy: 0.9649\n",
            "Epoch 38/50\n",
            "15/15 [==============================] - 0s 24ms/step - loss: 0.0227 - accuracy: 0.9912 - val_loss: 0.1872 - val_accuracy: 0.9474\n",
            "Epoch 39/50\n",
            "15/15 [==============================] - 0s 24ms/step - loss: 0.0083 - accuracy: 1.0000 - val_loss: 0.1908 - val_accuracy: 0.9474\n",
            "Epoch 40/50\n",
            "15/15 [==============================] - 0s 24ms/step - loss: 0.0052 - accuracy: 0.9978 - val_loss: 0.1837 - val_accuracy: 0.9561\n",
            "Epoch 41/50\n",
            "15/15 [==============================] - 0s 28ms/step - loss: 0.0305 - accuracy: 0.9890 - val_loss: 0.2476 - val_accuracy: 0.9649\n",
            "Epoch 42/50\n",
            "15/15 [==============================] - 0s 24ms/step - loss: 0.0201 - accuracy: 0.9912 - val_loss: 0.2479 - val_accuracy: 0.9649\n",
            "Epoch 43/50\n",
            "15/15 [==============================] - 0s 27ms/step - loss: 0.0180 - accuracy: 0.9934 - val_loss: 0.2441 - val_accuracy: 0.9561\n",
            "Epoch 44/50\n",
            "15/15 [==============================] - 0s 25ms/step - loss: 0.0065 - accuracy: 0.9978 - val_loss: 0.2051 - val_accuracy: 0.9649\n",
            "Epoch 45/50\n",
            "15/15 [==============================] - 0s 24ms/step - loss: 0.0076 - accuracy: 0.9956 - val_loss: 0.1605 - val_accuracy: 0.9649\n",
            "Epoch 46/50\n",
            "15/15 [==============================] - 0s 25ms/step - loss: 0.0190 - accuracy: 0.9956 - val_loss: 0.1272 - val_accuracy: 0.9649\n",
            "Epoch 47/50\n",
            "15/15 [==============================] - 0s 25ms/step - loss: 0.0291 - accuracy: 0.9846 - val_loss: 0.1311 - val_accuracy: 0.9649\n",
            "Epoch 48/50\n",
            "15/15 [==============================] - 0s 25ms/step - loss: 0.0242 - accuracy: 0.9934 - val_loss: 0.2291 - val_accuracy: 0.9561\n",
            "Epoch 49/50\n",
            "15/15 [==============================] - 0s 25ms/step - loss: 0.0241 - accuracy: 0.9934 - val_loss: 0.2520 - val_accuracy: 0.9561\n",
            "Epoch 50/50\n",
            "15/15 [==============================] - 0s 25ms/step - loss: 0.0435 - accuracy: 0.9846 - val_loss: 0.0895 - val_accuracy: 0.9825\n"
          ],
          "name": "stdout"
        }
      ]
    },
    {
      "cell_type": "markdown",
      "metadata": {
        "id": "wZ0qm-HzuvRU"
      },
      "source": [
        "## Plotting"
      ]
    },
    {
      "cell_type": "code",
      "metadata": {
        "colab": {
          "base_uri": "https://localhost:8080/",
          "height": 295
        },
        "id": "elSKMVFduugr",
        "outputId": "61968d59-11c6-4745-d18a-48bc1cfbb872"
      },
      "source": [
        "plt.plot(history.history[\"accuracy\"])\n",
        "plt.plot(history.history[\"val_accuracy\"])\n",
        "plt.xlabel(\"Epochs\")\n",
        "plt.ylabel(\"Accuracy\")\n",
        "plt.title(\"Accuracy curve\")\n",
        "plt.legend(['train','test'])\n",
        "plt.show()"
      ],
      "execution_count": null,
      "outputs": [
        {
          "output_type": "display_data",
          "data": {
            "image/png": "[encoded data removed]",
            "text/plain": [
              "<Figure size 432x288 with 1 Axes>"
            ]
          },
          "metadata": {
            "tags": [],
            "needs_background": "light"
          }
        }
      ]
    },
    {
      "cell_type": "code",
      "metadata": {
        "colab": {
          "base_uri": "https://localhost:8080/",
          "height": 295
        },
        "id": "xtT9GI1TuIck",
        "outputId": "3cfa6a9c-20c0-4082-deb1-11d4b426bf12"
      },
      "source": [
        "plt.plot(history.history[\"loss\"])\n",
        "plt.plot(history.history[\"val_loss\"])\n",
        "plt.xlabel(\"Epochs\")\n",
        "plt.ylabel(\"Loss\")\n",
        "plt.title(\"Loss curve\")\n",
        "plt.legend(['train','test'])\n",
        "plt.show()"
      ],
      "execution_count": null,
      "outputs": [
        {
          "output_type": "display_data",
          "data": {
            "image/png": "[encoded data removed]",
            "text/plain": [
              "<Figure size 432x288 with 1 Axes>"
            ]
          },
          "metadata": {
            "tags": [],
            "needs_background": "light"
          }
        }
      ]
    },
    {
      "cell_type": "code",
      "metadata": {
        "id": "P7-M8vr8xVaR"
      },
      "source": [
        ""
      ],
      "execution_count": null,
      "outputs": []
    }
  ]
}